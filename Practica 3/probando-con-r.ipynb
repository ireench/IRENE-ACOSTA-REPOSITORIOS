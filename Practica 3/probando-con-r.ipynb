{
 "cells": [
  {
   "cell_type": "markdown",
   "metadata": {},
   "source": [
    "# Probando con R"
   ]
  },
  {
   "cell_type": "markdown",
   "metadata": {},
   "source": [
    "Con la herramienta Jupyter Notebook en esta nueva práctica utilizaremos el lenguaje de programación R. Este lenguaje es usado para tareas de análisis estadístico y la aplicación de gráficos a partir de unos datos. \n",
    "\n",
    "R es un lenguaje de programación que se diferencia del resto se \n",
    "trata de un lenguaje que realiza las acciones solicitadas sin ser necesario la compilación previa. Además, en este enfoque del análisis estadístico es clave es donde encontramos la diferencia en el resto, pues es muy funcional para el análisis de datos. \n"
   ]
  },
  {
   "cell_type": "markdown",
   "metadata": {},
   "source": [
    "## Instalar librerías"
   ]
  },
  {
   "cell_type": "markdown",
   "metadata": {},
   "source": [
    "Las librerías son herramientas que nos permiten desarrollar más de un lenguaje de programación con el que trabajemos, en esta práctica será lenguaje R. Para instalar liberías se debería hacer esto, pero en la clase no se pudo realizar. Instalar el paquete ggplot2 se realiza a través de la función R: \n",
    "\n",
    "`install.packages(ggplot2\")`\n"
   ]
  },
  {
   "cell_type": "markdown",
   "metadata": {},
   "source": [
    "## Importar librerías"
   ]
  },
  {
   "cell_type": "markdown",
   "metadata": {},
   "source": [
    "En este apartado se importa la librería que se puede cargar en este notebook usando la función `library()`."
   ]
  },
  {
   "cell_type": "code",
   "execution_count": 5,
   "metadata": {},
   "outputs": [],
   "source": [
    "library(ggplot2)"
   ]
  },
  {
   "cell_type": "markdown",
   "metadata": {},
   "source": [
    "## Crear Datos"
   ]
  },
  {
   "cell_type": "markdown",
   "metadata": {},
   "source": [
    "Para ello hemos seleccionados los datos que queremos que sean representados. A partir de un ggplot ya creado con anterioridad y ofrecido por el profesor, cambiaremos en él los nombres y los datos. En este apartado hubo un fallo en la clase que no se pudo solucionar y por ello no sabría como completar este apartado. "
   ]
  },
  {
   "cell_type": "code",
   "execution_count": 6,
   "metadata": {},
   "outputs": [
    {
     "data": {
      "image/png": "[encoded data removed]",
      "text/plain": [
       "plot without title"
      ]
     },
     "metadata": {
      "image/png": {
       "height": 420,
       "width": 420
      }
     },
     "output_type": "display_data"
    }
   ],
   "source": [
    "bajas <- c(rep(\"Tanques\" , 2) , rep(\"Artillería\" , 2) , rep(\"Aeronaves\" , 2) )\n",
    "paises <- rep(c(\"Rusia\", \"Ucrania\"), 3)\n",
    "value <- abs(rnorm(12 , 0 , 15))\n",
    "data <- data.frame(bajas, paises, value)\n",
    "\n",
    "# Grouped\n",
    "ggplot(data, aes(fill=paises, y=value, x=bajas)) + \n",
    "    geom_bar(position=\"dodge\", stat=\"identity\")"
   ]
  }
 ],
 "metadata": {
  "kernelspec": {
   "display_name": "R",
   "language": "R",
   "name": "ir"
  },
  "language_info": {
   "codemirror_mode": "r",
   "file_extension": ".r",
   "mimetype": "text/x-r-source",
   "name": "R",
   "pygments_lexer": "r",
   "version": "4.1.0"
  }
 },
 "nbformat": 4,
 "nbformat_minor": 4
}
